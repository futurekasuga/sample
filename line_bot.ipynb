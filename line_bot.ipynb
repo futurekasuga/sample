{
  "nbformat": 4,
  "nbformat_minor": 0,
  "metadata": {
    "colab": {
      "name": "line_bot.ipynb",
      "version": "0.3.2",
      "provenance": [],
      "collapsed_sections": [],
      "include_colab_link": true
    },
    "kernelspec": {
      "name": "python3",
      "display_name": "Python 3"
    }
  },
  "cells": [
    {
      "cell_type": "markdown",
      "metadata": {
        "id": "view-in-github",
        "colab_type": "text"
      },
      "source": [
        "<a href=\"https://colab.research.google.com/github/futurekasuga/sample/blob/master/line_bot.ipynb\" target=\"_parent\"><img src=\"https://colab.research.google.com/assets/colab-badge.svg\" alt=\"Open In Colab\"/></a>"
      ]
    },
    {
      "cell_type": "code",
      "metadata": {
        "id": "fPYEorDPMCd6",
        "colab_type": "code",
        "outputId": "c13cd7d6-cdf7-41d6-9ceb-84158e59f9c6",
        "colab": {
          "base_uri": "https://localhost:8080/",
          "height": 382
        }
      },
      "source": [
        "!pip install Flask==0.12.2 line-bot-sdk==1.5.0"
      ],
      "execution_count": 1,
      "outputs": [
        {
          "output_type": "stream",
          "text": [
            "Collecting Flask==0.12.2\n",
            "\u001b[?25l  Downloading https://files.pythonhosted.org/packages/77/32/e3597cb19ffffe724ad4bf0beca4153419918e7fa4ba6a34b04ee4da3371/Flask-0.12.2-py2.py3-none-any.whl (83kB)\n",
            "\u001b[K     |████████████████████████████████| 92kB 3.6MB/s \n",
            "\u001b[?25hCollecting line-bot-sdk==1.5.0\n",
            "  Downloading https://files.pythonhosted.org/packages/5c/32/a9fae5f6836344832bc594e5b941cfa163f374a642ad4c2dcf9d6a12b4b7/line_bot_sdk-1.5.0-py2.py3-none-any.whl\n",
            "Requirement already satisfied: Jinja2>=2.4 in /usr/local/lib/python3.6/dist-packages (from Flask==0.12.2) (2.10.1)\n",
            "Requirement already satisfied: itsdangerous>=0.21 in /usr/local/lib/python3.6/dist-packages (from Flask==0.12.2) (1.1.0)\n",
            "Requirement already satisfied: click>=2.0 in /usr/local/lib/python3.6/dist-packages (from Flask==0.12.2) (7.0)\n",
            "Requirement already satisfied: Werkzeug>=0.7 in /usr/local/lib/python3.6/dist-packages (from Flask==0.12.2) (0.15.2)\n",
            "Requirement already satisfied: requests>=2.0 in /usr/local/lib/python3.6/dist-packages (from line-bot-sdk==1.5.0) (2.21.0)\n",
            "Requirement already satisfied: future in /usr/local/lib/python3.6/dist-packages (from line-bot-sdk==1.5.0) (0.16.0)\n",
            "Requirement already satisfied: MarkupSafe>=0.23 in /usr/local/lib/python3.6/dist-packages (from Jinja2>=2.4->Flask==0.12.2) (1.1.1)\n",
            "Requirement already satisfied: certifi>=2017.4.17 in /usr/local/lib/python3.6/dist-packages (from requests>=2.0->line-bot-sdk==1.5.0) (2019.3.9)\n",
            "Requirement already satisfied: idna<2.9,>=2.5 in /usr/local/lib/python3.6/dist-packages (from requests>=2.0->line-bot-sdk==1.5.0) (2.8)\n",
            "Requirement already satisfied: chardet<3.1.0,>=3.0.2 in /usr/local/lib/python3.6/dist-packages (from requests>=2.0->line-bot-sdk==1.5.0) (3.0.4)\n",
            "Requirement already satisfied: urllib3<1.25,>=1.21.1 in /usr/local/lib/python3.6/dist-packages (from requests>=2.0->line-bot-sdk==1.5.0) (1.24.3)\n",
            "Installing collected packages: Flask, line-bot-sdk\n",
            "  Found existing installation: Flask 1.0.2\n",
            "    Uninstalling Flask-1.0.2:\n",
            "      Successfully uninstalled Flask-1.0.2\n",
            "Successfully installed Flask-0.12.2 line-bot-sdk-1.5.0\n"
          ],
          "name": "stdout"
        }
      ]
    },
    {
      "cell_type": "code",
      "metadata": {
        "id": "qeKgU77RMV2_",
        "colab_type": "code",
        "colab": {}
      },
      "source": [
        "from linebot import LineBotApi\n",
        "from linebot.models import TextSendMessage, TemplateSendMessage\n",
        "from linebot.models import StickerSendMessage\n",
        "from linebot.exceptions import LineBotApiError\n",
        "\n",
        "\n",
        "linebot_api = LineBotApi('MNnBL1ZLDKHmrADbrwaShnjnkNPZ4lztIvOC4trOScpt3e209XooDPFuSi/596gIuHU9g4XgKyRYTGtsDm4GU/JdVcsLrViC8lqy3UoTu/edoyJ960fRKClkbx7nsxjtj7KifXC4M3iSfRCMzIeO6AdB04t89/1O/w1cDnyilFU=')\n",
        "# parser = WebhookParser('a645f84aeb7fa4784dc9455ce0bd00f3')\n",
        "#今日は夕方からテレビをみて盛り上がっていた,今日おばあちゃん家に来客があった,おばあちゃんが夜遅くまで起きている\n",
        "\n",
        "linebot_api.push_message('U111a4314b8499710f1c9661600d4770e' , TextSendMessage(text=\"ここはメッセージ\"))\n",
        "linebot_api.push_message('U111a4314b8499710f1c9661600d4770e',StickerSendMessage(package_id='1',sticker_id='161'))\n"
      ],
      "execution_count": 0,
      "outputs": []
    },
    {
      "cell_type": "code",
      "metadata": {
        "id": "y_zzSmMDSZeS",
        "colab_type": "code",
        "outputId": "8217507f-a18b-466d-e7b3-8fd1c8bb3003",
        "colab": {
          "base_uri": "https://localhost:8080/",
          "height": 69
        }
      },
      "source": [
        "profile = linebot_api.get_profile('U111a4314b8499710f1c9661600d4770e')\n",
        "print(profile.display_name) #-> 表示名\n",
        "print(profile.user_id) #-> ユーザーID\n",
        "print(profile.status_message) #-> ステータスメッセージ"
      ],
      "execution_count": 0,
      "outputs": [
        {
          "output_type": "stream",
          "text": [
            "友哉\n",
            "U111a4314b8499710f1c9661600d4770e\n",
            "いちごパスタ\n"
          ],
          "name": "stdout"
        }
      ]
    },
    {
      "cell_type": "code",
      "metadata": {
        "id": "62siqBmIFgm_",
        "colab_type": "code",
        "colab": {}
      },
      "source": [
        "from django.http import HttpResponseForbidden, HttpResponse\n",
        "\n",
        "from linebot.exceptions import InvalidSignatureError\n",
        "from linebot.models import (\n",
        "    MessageEvent, TextMessage, FollowEvent, UnfollowEvent,\n",
        "    TextSendMessage, ImageMessage, AudioMessage\n",
        ")\n",
        "\n",
        "from linebot import LineBotApi, WebhookHandler\n",
        "\n",
        "\n",
        "# 各クライアントライブラリのインスタンス作成\n",
        "line_bot_api = LineBotApi(channel_access_token='MNnBL1ZLDKHmrADbrwaShnjnkNPZ4lztIvOC4trOScpt3e209XooDPFuSi/596gIuHU9g4XgKyRYTGtsDm4GU/JdVcsLrViC8lqy3UoTu/edoyJ960fRKClkbx7nsxjtj7KifXC4M3iSfRCMzIeO6AdB04t89/1O/w1cDnyilFU=')\n",
        "handler = WebhookHandler(channel_secret=\"dfd01345497b9893e9866c4686dc1582\")\n",
        "\n",
        "\n",
        "def callback(request):\n",
        "    # signatureの取得\n",
        "    signature = request.META['HTTP_X_LINE_SIGNATURE']\n",
        "    body = request.body.decode('utf-8')\n",
        "    try:\n",
        "        # 署名の検証を行い、成功した場合にhandleされたメソッドを呼び出す\n",
        "        handler.handle(body, signature)\n",
        "    except InvalidSignatureError:\n",
        "        return HttpResponseForbidden()\n",
        "    return HttpResponse('OK')\n",
        "\n",
        "\n",
        "\n",
        "# フォローイベントの場合の処理\n",
        "@handler.add(FollowEvent)\n",
        "def handle_follow(event):\n",
        "    line_bot_api.reply_message(\n",
        "        event.reply_token,\n",
        "        TextSendMessage(text='初めまして')\n",
        "    )\n",
        "\n",
        "\n",
        "# メッセージイベントの場合の処理\n",
        "@handler.add(MessageEvent, message=TextMessage)\n",
        "def handle_text_message(event):\n",
        "    # メッセージでもテキストの場合はオウム返しする\n",
        "    line_bot_api.reply_message(\n",
        "        event.reply_token,\n",
        "        TextSendMessage(text=event.message.text)\n",
        "    )\n",
        "\n",
        "@handler.add(MessageEvent, message=(ImageMessage, AudioMessage))\n",
        "def handle_image_audio_message(event):\n",
        "    # 画像と音源の場合は保存する\n",
        "    content = line_bot_api.get_message_content(event.message.id)\n",
        "    with open('file', 'w') as f:\n",
        "        for c in content.iter_content():\n",
        "            f.write(c)"
      ],
      "execution_count": 0,
      "outputs": []
    },
    {
      "cell_type": "code",
      "metadata": {
        "id": "bACNkPhqFYjn",
        "colab_type": "code",
        "colab": {}
      },
      "source": [
        "from django.urls import path\n",
        "\n",
        "urlpatterns = [\n",
        "    path('callback', callback)\n",
        "]"
      ],
      "execution_count": 0,
      "outputs": []
    }
  ]
}